{
 "cells": [
  {
   "cell_type": "code",
   "execution_count": 3,
   "metadata": {},
   "outputs": [],
   "source": [
    "import pandas as pd\n",
    "#import xlrd\n",
    "import os\n",
    "import re\n",
    "import datetime"
   ]
  },
  {
   "cell_type": "code",
   "execution_count": 4,
   "metadata": {},
   "outputs": [],
   "source": [
    "def commaParse(num):\n",
    "   return re.sub('(?<=\\d)(?=(\\d{3})+(?!\\d))',',',str(num))"
   ]
  },
  {
   "cell_type": "code",
   "execution_count": 5,
   "metadata": {},
   "outputs": [],
   "source": [
    "DATA_PATH = \"C:\\\\Temp\\\\NsmData\\\\\"\n",
    "today = datetime.datetime.today() # datetime.datetime.now\n",
    "yesterday = today + datetime.timedelta(days=-1) # 오늘에서 1일을 빼서 어제를 구한다\n",
    "file_name = \"order\" + yesterday.strftime('%Y%m%d') + \".xlsx\"\n",
    "#file_name ='order20190401to0419.xlsx'"
   ]
  },
  {
   "cell_type": "code",
   "execution_count": 6,
   "metadata": {},
   "outputs": [],
   "source": [
    "excel_file = DATA_PATH + file_name\n",
    "#excel_file = \"C:\\\\Temp\\\\NsmData\\order20190419.xlsx\"\n",
    "#excel_file = \"C:\\\\Temp\\\\NsmData\\order20190401to0419.xlsx\""
   ]
  },
  {
   "cell_type": "code",
   "execution_count": 7,
   "metadata": {},
   "outputs": [
    {
     "name": "stdout",
     "output_type": "stream",
     "text": [
      "실패! C:\\Temp\\NsmData\\order20190419.xlsx file not found!! \n",
      "[WinError 3] 지정된 경로를 찾을 수 없습니다: 'C:\\\\Temp\\\\NsmData\\\\'\n"
     ]
    }
   ],
   "source": [
    "try:\n",
    "    if not os.path.exists(excel_file):\n",
    "        print('실패! ' + excel_file + ' file not found!! ')\n",
    "        exists_files = os.listdir(DATA_PATH)\n",
    "        print('Exists files :' + exists_files)\n",
    "        exit()\n",
    "except FileNotFoundError as e:\n",
    "    print(e)\n",
    "    exit()"
   ]
  },
  {
   "cell_type": "code",
   "execution_count": null,
   "metadata": {},
   "outputs": [],
   "source": [
    "# 프로그램 시작 시간 표시\n",
    "start_dt = datetime.datetime.now()\n",
    "ts = start_dt.timetuple()\n",
    "print('지금 시간은  {}년 {}월 {}일 {}시 {}분 {}초'.format(ts.tm_year,ts.tm_mon, ts.tm_mday, ts.tm_hour, ts.tm_min, ts.tm_sec))\n",
    "\n",
    "print('시작시간:' + start_dt.strftime('%Y-%m-%d, %H:%M:%S')) #'2019-04-19, 13:31:11'\n",
    "print('=-='*30) # 줄긋기"
   ]
  },
  {
   "cell_type": "code",
   "execution_count": null,
   "metadata": {},
   "outputs": [],
   "source": [
    "df = pd.read_excel(excel_file, Sheet_name='Sheet1')"
   ]
  },
  {
   "cell_type": "markdown",
   "metadata": {},
   "source": [
    "### - 읽어들일 칼럼을 지정한다"
   ]
  },
  {
   "cell_type": "code",
   "execution_count": null,
   "metadata": {},
   "outputs": [],
   "source": [
    "read_columns = ['주담당채널', '영업채널명', '영업담당자명', '고객명', '사업자/주민', '주문일자', '주문상태',\n",
    "              '주문현황', '납입구분', '상품명', '단위상품명', '공급가', '금액(VAT별도)', '판매유형', '기회시작일' ]\n",
    "\n",
    "df1 = df[read_columns]"
   ]
  },
  {
   "cell_type": "code",
   "execution_count": null,
   "metadata": {},
   "outputs": [],
   "source": [
    "product_category = {'ICUBE 클라우드서버', 'GW 클라우드서버', 'ICUBE/GW 클라우드서버', 'ICUBE/IU 클라우드서버',\n",
    "                   'IU/GW 클라우드서버', 'Private Cloud', 'iU Private', 'iCUBE Private', '클라우드백업서버'} #집합(중복값 불허)\n",
    "\n",
    "df2 = df1[df1['상품명'].isin(product_category)]"
   ]
  },
  {
   "cell_type": "code",
   "execution_count": null,
   "metadata": {},
   "outputs": [],
   "source": [
    "groupby_columns_list = ['영업채널명', '영업담당자명', '사업자/주민', '고객명', '상품명', '판매유형', '기회시작일']\n",
    "grouped = df2.groupby(groupby_columns_list)\n",
    "df3 = grouped.sum().reset_index()"
   ]
  },
  {
   "cell_type": "code",
   "execution_count": null,
   "metadata": {},
   "outputs": [],
   "source": [
    "# 업체명/솔루션/년금액/센터/담당자/판매유형\n",
    "for row in df3.values:\n",
    "   print(\"{0}/{1}/년{2}원/{3}/{4}/{5}\".format(row[3], row[4].split()[0], commaParse(row[8]), row[0].split()[0], row[1], row[5]))"
   ]
  },
  {
   "cell_type": "code",
   "execution_count": null,
   "metadata": {},
   "outputs": [],
   "source": [
    "# 결과 갯수 표시\n",
    "#count_row = df3.shape[0]  # gives number of row count   참고) len(df3)는 결과값이 같으나 느림\n",
    "#count_col = df3.shape[1]  # gives number of col count\n",
    "print('{0}개가 검색되었습니다.'.format(df3.shape[0]))"
   ]
  },
  {
   "cell_type": "code",
   "execution_count": null,
   "metadata": {},
   "outputs": [],
   "source": [
    "print('-'*50)\n",
    "# 업체명 (사업자번호)\n",
    "for row in df3.values:\n",
    "   print(\"- {0} ({1})\".format(row[3], row[2]))"
   ]
  },
  {
   "cell_type": "code",
   "execution_count": null,
   "metadata": {},
   "outputs": [],
   "source": [
    "# 프로그램 종료 시간 표시\n",
    "print('=-='*30) # 줄긋기\n",
    "end_dt = datetime.datetime.now()\n",
    "print(\"소요시간: {0}\".format(end_dt - start_dt))\n",
    "print('종료시간: ' + end_dt.strftime('%Y-%m-%d, %H:%M:%S')) #'2019-04-19, 13:31:11'"
   ]
  }
 ],
 "metadata": {
  "kernelspec": {
   "display_name": "Python 3",
   "language": "python",
   "name": "python3"
  },
  "language_info": {
   "codemirror_mode": {
    "name": "ipython",
    "version": 3
   },
   "file_extension": ".py",
   "mimetype": "text/x-python",
   "name": "python",
   "nbconvert_exporter": "python",
   "pygments_lexer": "ipython3",
   "version": "3.7.3"
  }
 },
 "nbformat": 4,
 "nbformat_minor": 2
}
